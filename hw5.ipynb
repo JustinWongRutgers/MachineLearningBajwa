{
 "cells": [
  {
   "cell_type": "code",
   "execution_count": 1,
   "metadata": {},
   "outputs": [],
   "source": [
    "from sklearn.datasets import load_wine\n",
    "samples, labels = load_wine(return_X_y=True)"
   ]
  },
  {
   "cell_type": "code",
   "execution_count": 2,
   "metadata": {},
   "outputs": [],
   "source": [
    "import numpy as np\n",
    "from matplotlib import pyplot as plt\n",
    "from mpl_toolkits.mplot3d import Axes3D\n",
    "import math"
   ]
  },
  {
   "cell_type": "code",
   "execution_count": 3,
   "metadata": {},
   "outputs": [
    {
     "name": "stdout",
     "output_type": "stream",
     "text": [
      "(178, 13)\n",
      "Mean:\n",
      "[[1.30006180e+01]\n",
      " [2.33634831e+00]\n",
      " [2.36651685e+00]\n",
      " [1.94949438e+01]\n",
      " [9.97415730e+01]\n",
      " [2.29511236e+00]\n",
      " [2.02926966e+00]\n",
      " [3.61853933e-01]\n",
      " [1.59089888e+00]\n",
      " [5.05808988e+00]\n",
      " [9.57449438e-01]\n",
      " [2.61168539e+00]\n",
      " [7.46893258e+02]]\n"
     ]
    }
   ],
   "source": [
    "print(samples.shape)\n",
    "X = samples.transpose()\n",
    "m = np.array([[np.mean(x)] for x in X])\n",
    "print(\"Mean:\")\n",
    "print(m)"
   ]
  },
  {
   "cell_type": "code",
   "execution_count": 4,
   "metadata": {},
   "outputs": [
    {
     "data": {
      "text/plain": [
       "<matplotlib.collections.PathCollection at 0x27bb423a240>"
      ]
     },
     "execution_count": 4,
     "metadata": {},
     "output_type": "execute_result"
    },
    {
     "data": {
      "image/png": "[encoded data removed]",
      "text/plain": [
       "<Figure size 432x288 with 1 Axes>"
      ]
     },
     "metadata": {},
     "output_type": "display_data"
    }
   ],
   "source": [
    "centered = X - m\n",
    "U,sig,Vh = np.linalg.svd(centered, full_matrices=True)\n",
    "centeredF = np.matmul(U[:,:2].transpose(), centered)\n",
    "\n",
    "CF0 = []\n",
    "CF1 = []\n",
    "CF2 = []\n",
    "\n",
    "for i in range(178):\n",
    "    #print(train_l[i])\n",
    "    if labels[i] == 0:\n",
    "        CF0.append(centeredF[:,i])\n",
    "    elif labels[i] == 1:\n",
    "        CF1.append(centeredF[:,i])\n",
    "    elif labels[i] == 2:\n",
    "        CF2.append(centeredF[:,i])\n",
    "        \n",
    "CF0 = np.array(CF0).transpose()\n",
    "CF1 = np.array(CF1).transpose()\n",
    "CF2 = np.array(CF2).transpose()\n",
    "\n",
    "fig = plt.figure()\n",
    "f = fig.add_subplot(111)\n",
    "f.set_title('Mean Shifted Data in 2-d')\n",
    "f.set_xlabel('PCA component 1')\n",
    "f.set_ylabel('PCA component 2')\n",
    "\n",
    "f.scatter(CF0[0], CF0[1], color='r', marker='s')\n",
    "f.scatter(CF1[0], CF1[1], color='g', marker='^')\n",
    "f.scatter(CF2[0], CF2[1], color='b')"
   ]
  },
  {
   "cell_type": "code",
   "execution_count": 5,
   "metadata": {},
   "outputs": [
    {
     "name": "stdout",
     "output_type": "stream",
     "text": [
      "Standard Deviations:\n",
      "[[8.09542915e-01]\n",
      " [1.11400363e+00]\n",
      " [2.73572294e-01]\n",
      " [3.33016976e+00]\n",
      " [1.42423077e+01]\n",
      " [6.24090564e-01]\n",
      " [9.96048950e-01]\n",
      " [1.24103260e-01]\n",
      " [5.70748849e-01]\n",
      " [2.31176466e+00]\n",
      " [2.27928607e-01]\n",
      " [7.07993265e-01]\n",
      " [3.14021657e+02]]\n",
      "(13, 178)\n",
      "Standard Deviations:\n",
      "[[1.]\n",
      " [1.]\n",
      " [1.]\n",
      " [1.]\n",
      " [1.]\n",
      " [1.]\n",
      " [1.]\n",
      " [1.]\n",
      " [1.]\n",
      " [1.]\n",
      " [1.]\n",
      " [1.]\n",
      " [1.]]\n"
     ]
    }
   ],
   "source": [
    "stdDev= np.array([[np.std(x)] for x in centered])\n",
    "print(\"Standard Deviations:\")\n",
    "print(stdDev)\n",
    "\n",
    "print(centered.shape)\n",
    "normD = centered/stdDev\n",
    "teststd= np.array([[np.std(x)] for x in normD])\n",
    "print(\"Standard Deviations:\")\n",
    "print(teststd)"
   ]
  },
  {
   "cell_type": "code",
   "execution_count": 6,
   "metadata": {},
   "outputs": [
    {
     "data": {
      "text/plain": [
       "<matplotlib.collections.PathCollection at 0x27bb42cf6d8>"
      ]
     },
     "execution_count": 6,
     "metadata": {},
     "output_type": "execute_result"
    },
    {
     "data": {
      "image/png": "[encoded data removed]",
      "text/plain": [
       "<Figure size 432x288 with 1 Axes>"
      ]
     },
     "metadata": {},
     "output_type": "display_data"
    }
   ],
   "source": [
    "U,sig,Vh = np.linalg.svd(normD, full_matrices=True)\n",
    "normF = np.matmul(U[:,:2].transpose(), normD)\n",
    "\n",
    "NF0 = []\n",
    "NF1 = []\n",
    "NF2 = []\n",
    "\n",
    "for i in range(178):\n",
    "    if labels[i] == 0:\n",
    "        NF0.append(normF[:,i])\n",
    "    elif labels[i] == 1:\n",
    "        NF1.append(normF[:,i])\n",
    "    elif labels[i] == 2:\n",
    "        NF2.append(normF[:,i])\n",
    "        \n",
    "NF0 = np.array(NF0).transpose()\n",
    "NF1 = np.array(NF1).transpose()\n",
    "NF2 = np.array(NF2).transpose()\n",
    "\n",
    "fig = plt.figure()\n",
    "f = fig.add_subplot(111)\n",
    "f.set_title('Standardized Data in 2-d')\n",
    "f.set_xlabel('PCA component 1')\n",
    "f.set_ylabel('PCA component 2')\n",
    "\n",
    "f.scatter(NF0[0], NF0[1], color='r', marker='s')\n",
    "f.scatter(NF1[0], NF1[1], color='g', marker='^')\n",
    "f.scatter(NF2[0], NF2[1], color='b')\n",
    "\n",
    "#It seems like the PCA features corresponding to the unit variance and mean centered dataset would be better for classification."
   ]
  },
  {
   "cell_type": "code",
   "execution_count": 7,
   "metadata": {},
   "outputs": [],
   "source": [
    "def Gprob(mean, std, pt):\n",
    "    return math.exp(-math.pow(pt - mean, 2)/(2*math.pow(std,2)))/(math.pow(2*math.pi, 0.5)*std)\n",
    "\n",
    "#assuming 2d features and 3 classes\n",
    "def trainGNB(DandLappended):\n",
    "    U,_,_ = np.linalg.svd(DandLappended[:,:-1].transpose(), full_matrices=True)\n",
    "    feat = np.matmul(U[:,:2].transpose(), DandLappended[:,:-1].transpose())\n",
    "    DandLappended2 = np.concatenate((feat, DandLappended[:,-1][None,:]), axis=0)\n",
    "    class0 = []\n",
    "    class1 = []\n",
    "    class2 = []\n",
    "    for d in DandLappended2.transpose():\n",
    "        #print(d)\n",
    "        if d[-1]==0:\n",
    "            class0.append(d[:-1])\n",
    "        elif d[-1]==1:\n",
    "            class1.append(d[:-1])\n",
    "        elif d[-1]==2:\n",
    "            class2.append(d[:-1])\n",
    "    return np.array(class0), np.array(class1), np.array(class2)\n",
    "\n",
    "def predictGNB(feat0, feat1, feat2, pts):\n",
    "    U,_,_ = np.linalg.svd(pts,full_matrices=True)\n",
    "    feats = np.matmul(U[:,:2].transpose(), pts).transpose()\n",
    "    mean0x = np.mean(feat0[0,:])\n",
    "    mean0y = np.mean(feat0[1,:])\n",
    "    std0x = np.std(feat0[0,:])\n",
    "    std0y = np.std(feat0[1,:])\n",
    "    #print(mean0x, mean0y, std0x, std0y)\n",
    "    \n",
    "    mean1x = np.mean(feat1[0,:])\n",
    "    mean1y = np.mean(feat1[1,:])\n",
    "    std1x = np.std(feat1[0,:])\n",
    "    std1y = np.std(feat1[1,:])\n",
    "    #print(mean1x, mean1y, std1x, std1y)\n",
    "    \n",
    "    mean2x = np.mean(feat2[0,:])\n",
    "    mean2y = np.mean(feat2[1,:])\n",
    "    std2x = np.std(feat2[0,:])\n",
    "    std2y = np.std(feat2[1,:])\n",
    "    #print(mean2x, mean2y,std2x, std2y)\n",
    "    \n",
    "    predC = []\n",
    "    \n",
    "    for p in feats:\n",
    "        p0 = Gprob(mean0x, std0x, p[0])*Gprob(mean0y,std0y,p[1])\n",
    "        p1 = Gprob(mean1x, std1x, p[0])*Gprob(mean1y,std1y,p[1])\n",
    "        p2 = Gprob(mean2x, std2x, p[0])*Gprob(mean2y,std2y,p[1])\n",
    "        probs = [p0,p1,p2]\n",
    "        predC.append(probs.index(max(probs)))\n",
    "    return predC"
   ]
  },
  {
   "cell_type": "code",
   "execution_count": 8,
   "metadata": {},
   "outputs": [],
   "source": [
    "from sklearn.naive_bayes import GaussianNB"
   ]
  },
  {
   "cell_type": "code",
   "execution_count": 9,
   "metadata": {},
   "outputs": [
    {
     "name": "stdout",
     "output_type": "stream",
     "text": [
      "(14, 178)\n"
     ]
    }
   ],
   "source": [
    "aD = np.concatenate((X, labels[None,:]), axis=0)\n",
    "print(aD.shape)"
   ]
  },
  {
   "cell_type": "code",
   "execution_count": 10,
   "metadata": {},
   "outputs": [
    {
     "name": "stdout",
     "output_type": "stream",
     "text": [
      "(35, 14) (35, 14) (36, 14) (36, 14) (36, 14)\n"
     ]
    }
   ],
   "source": [
    "ad = aD.transpose()\n",
    "\n",
    "NF0 = []\n",
    "NF1 = []\n",
    "NF2 = []\n",
    "\n",
    "for i in range(178):\n",
    "    if labels[i] == 0:\n",
    "        NF0.append(ad.transpose()[:,i])\n",
    "    elif labels[i] == 1:\n",
    "        NF1.append(ad.transpose()[:,i])\n",
    "    elif labels[i] == 2:\n",
    "        NF2.append(ad.transpose()[:,i])\n",
    "        \n",
    "NF0 = np.array(NF0)\n",
    "NF1 = np.array(NF1)\n",
    "NF2 = np.array(NF2)\n",
    "\n",
    "perm0,perm1,perm2 = np.random.permutation(NF0.shape[0]), np.random.permutation(NF1.shape[0]), np.random.permutation(NF2.shape[0])\n",
    "part01, part02, part03, part04, part05,_ = np.array(np.split(NF0[perm0],[12,24,36,48,60]))\n",
    "part11, part12, part13, part14, part15,_ = np.array(np.split(NF1[perm1],[14,28,42,56,71]))\n",
    "part21, part22, part23, part24, part25,_ = np.array(np.split(NF2[perm2],[9,18,28,38,48]))\n",
    "#We wish to have around an average amount of each class in each of the folds.\n",
    "\n",
    "as1 = np.concatenate((part01,part11,part21),axis=0)\n",
    "as2 = np.concatenate((part02,part12,part22),axis=0)\n",
    "as3 = np.concatenate((part03,part13,part23),axis=0)\n",
    "as4 = np.concatenate((part04,part14,part24),axis=0)\n",
    "as5 = np.concatenate((part05,part15,part25),axis=0)\n",
    "print(as1.shape, as2.shape,as3.shape,as4.shape,as5.shape)\n"
   ]
  },
  {
   "cell_type": "code",
   "execution_count": 11,
   "metadata": {},
   "outputs": [
    {
     "name": "stdout",
     "output_type": "stream",
     "text": [
      "[0. 0. 0. 0. 0. 0. 0. 0. 0. 0. 0. 0. 1. 1. 1. 1. 1. 1. 1. 1. 1. 1. 1. 1.\n",
      " 1. 1. 2. 2. 2. 2. 2. 2. 2. 2. 2.]\n",
      "[ 0. -2.  0. -2.  0.  0.  0.  0.  0.  0.  0.  0.  0. -1. -1.  0.  0.  0.\n",
      "  0. -1.  0. -1.  0.  0.  0.  0.  1.  0.  0.  0.  0.  0.  0.  0.  0.]\n",
      "[0. 0. 0. 0. 0. 0. 0. 0. 0. 0. 0. 0. 1. 1. 1. 1. 1. 1. 1. 1. 1. 1. 1. 1.\n",
      " 1. 1. 2. 2. 2. 2. 2. 2. 2. 2. 2.]\n",
      "[ 0.  0.  0.  0.  0.  0.  0.  0.  0.  0.  0.  0. -1.  0.  0.  0. -1.  0.\n",
      "  0.  0.  0.  0. -1.  0.  0.  0.  0.  0.  0.  1.  0.  0.  0.  1.  1.]\n",
      "[0. 0. 0. 0. 0. 0. 0. 0. 0. 0. 0. 0. 1. 1. 1. 1. 1. 1. 1. 1. 1. 1. 1. 1.\n",
      " 1. 1. 2. 2. 2. 2. 2. 2. 2. 2. 2. 2.]\n",
      "[ 0.  0.  0.  0.  0.  0.  0.  0.  0.  0.  0. -2.  0. -1. -1.  0.  0.  0.\n",
      "  0.  0. -1.  0.  0.  0. -1.  1.  0.  0.  0.  0.  0.  0.  0.  0.  2.  2.]\n",
      "[0. 0. 0. 0. 0. 0. 0. 0. 0. 0. 0. 0. 1. 1. 1. 1. 1. 1. 1. 1. 1. 1. 1. 1.\n",
      " 1. 1. 2. 2. 2. 2. 2. 2. 2. 2. 2. 2.]\n",
      "[ 0.  0.  0. -2.  0.  0.  0.  0.  0.  0. -1.  0.  0.  0.  0. -1.  0. -1.\n",
      "  0. -1.  0.  0.  0. -1. -1.  0.  0.  0.  1.  1.  0.  0.  0.  0.  0.  1.]\n",
      "[0. 0. 0. 0. 0. 0. 0. 0. 0. 0. 0. 1. 1. 1. 1. 1. 1. 1. 1. 1. 1. 1. 1. 1.\n",
      " 1. 1. 2. 2. 2. 2. 2. 2. 2. 2. 2. 2.]\n",
      "[ 0.  0.  0.  0.  0.  0.  0.  0.  0.  0.  0.  1.  0. -1.  0.  0.  0. -1.\n",
      " -1.  0.  0.  0.  0. -1. -1.  0.  0.  0.  0.  0.  0.  0.  0.  0.  0.  1.]\n",
      "Errors: [7, 6, 8, 10, 7]\n",
      "Mean: 7.6\n",
      "Variation 1.84\n"
     ]
    }
   ],
   "source": [
    "#Case 1\n",
    "\n",
    "listarrays = [as1,as2,as3,as4,as5]\n",
    "errorMCC = []\n",
    "for i in [0, 1, 2, 3, 4]:\n",
    "    arr = listarrays[i]\n",
    "    #print(arr[:,-1])\n",
    "    del listarrays[i]\n",
    "    training = np.array([[],[],[],[],[],[],[],[],[],[],[],[],[],[]]).transpose()\n",
    "    for a in listarrays:\n",
    "        training = np.concatenate((training,a),axis=0)\n",
    "    tstart = training[:,:-1].transpose()\n",
    "    tlabel = training[:,-1]\n",
    "    tmean = np.array([[np.mean(x)] for x in tstart])\n",
    "    tstart = tstart - tmean\n",
    "    training = np.concatenate((tstart.transpose(), tlabel[:,None]), axis=1)\n",
    "    a,b,c = trainGNB(training)\n",
    "    a,b,c = a.transpose(),b.transpose(),c.transpose()\n",
    "    teststart = arr[:,:-1].transpose()\n",
    "    tmean = np.array([[np.mean(x)] for x in teststart])\n",
    "    teststart = teststart - tmean\n",
    "    g = predictGNB(a,b,c,teststart)\n",
    "    print(arr[:,-1] - g)\n",
    "    errorMCC.append(len(np.where(g - arr[:,-1] != 0)[0]))\n",
    "    listarrays = [as1,as2,as3,as4,as5]\n",
    "print('Errors:', errorMCC)\n",
    "print('Mean:', np.mean(errorMCC))\n",
    "print('Variation', math.pow(np.std(errorMCC),2))\n"
   ]
  },
  {
   "cell_type": "code",
   "execution_count": 12,
   "metadata": {},
   "outputs": [
    {
     "name": "stdout",
     "output_type": "stream",
     "text": [
      "[0. 0. 0. 0. 0. 0. 0. 0. 0. 0. 0. 0. 1. 1. 1. 1. 1. 1. 1. 1. 1. 1. 1. 1.\n",
      " 1. 1. 2. 2. 2. 2. 2. 2. 2. 2. 2.]\n",
      "[ 0.  0.  0.  0.  0.  0.  0.  0. -1.  0.  0.  0.  0.  0.  0.  0.  0.  0.\n",
      "  0.  0.  0.  0.  0.  0.  0.  0.  0.  0.  0.  0.  0.  0.  0.  0.  0.]\n",
      "[0. 0. 0. 0. 0. 0. 0. 0. 0. 0. 0. 0. 1. 1. 1. 1. 1. 1. 1. 1. 1. 1. 1. 1.\n",
      " 1. 1. 2. 2. 2. 2. 2. 2. 2. 2. 2.]\n",
      "[0. 0. 0. 0. 0. 0. 0. 0. 0. 0. 0. 0. 0. 0. 0. 0. 0. 0. 0. 0. 0. 0. 0. 1.\n",
      " 0. 0. 0. 0. 0. 0. 0. 0. 0. 0. 0.]\n",
      "[0. 0. 0. 0. 0. 0. 0. 0. 0. 0. 0. 0. 1. 1. 1. 1. 1. 1. 1. 1. 1. 1. 1. 1.\n",
      " 1. 1. 2. 2. 2. 2. 2. 2. 2. 2. 2. 2.]\n",
      "[ 0.  0.  0.  0.  0.  0.  0.  0.  0.  0.  0.  0.  0.  0. -1.  0.  0.  0.\n",
      "  0.  0.  0.  0.  0.  0.  0.  0.  0.  0.  0.  0.  0.  0.  0.  0.  0.  0.]\n",
      "[0. 0. 0. 0. 0. 0. 0. 0. 0. 0. 0. 0. 1. 1. 1. 1. 1. 1. 1. 1. 1. 1. 1. 1.\n",
      " 1. 1. 2. 2. 2. 2. 2. 2. 2. 2. 2. 2.]\n",
      "[-1. -1.  0. -1. -1. -1. -1. -1.  0. -1. -1.  0.  1. -1. -1.  1. -1.  1.\n",
      "  1.  1. -1.  1.  1.  1.  1. -1.  0.  1.  1.  1.  1.  1.  1.  1.  1.  1.]\n",
      "[0. 0. 0. 0. 0. 0. 0. 0. 0. 0. 0. 1. 1. 1. 1. 1. 1. 1. 1. 1. 1. 1. 1. 1.\n",
      " 1. 1. 2. 2. 2. 2. 2. 2. 2. 2. 2. 2.]\n",
      "[0. 0. 0. 0. 0. 0. 0. 0. 0. 0. 0. 1. 0. 0. 0. 0. 0. 0. 0. 0. 0. 0. 0. 0.\n",
      " 0. 0. 0. 0. 0. 0. 0. 0. 0. 0. 0. 0.]\n",
      "Errors: [1, 1, 1, 32, 1]\n",
      "Mean: 7.2\n",
      "Variation 153.76000000000005\n"
     ]
    }
   ],
   "source": [
    "#Case 2\n",
    "\n",
    "listarrays = [as1,as2,as3,as4,as5]\n",
    "errorMCS = []\n",
    "for i in [0, 1, 2, 3, 4]:\n",
    "    arr = listarrays[i]\n",
    "    #print(arr[:,-1])\n",
    "    del listarrays[i]\n",
    "    training = np.array([[],[],[],[],[],[],[],[],[],[],[],[],[],[]]).transpose()\n",
    "    for a in listarrays:\n",
    "        training = np.concatenate((training,a),axis=0)\n",
    "    tstart = training[:,:-1].transpose()\n",
    "    tlabel = training[:,-1]\n",
    "    tmean = np.array([[np.mean(x)] for x in tstart])\n",
    "    tstart = tstart - tmean\n",
    "    stdDev= np.array([[np.std(x)] for x in tstart])\n",
    "    tstart = tstart/stdDev\n",
    "    training = np.concatenate((tstart.transpose(), tlabel[:,None]), axis=1)\n",
    "    a,b,c = trainGNB(training)\n",
    "    a,b,c = a.transpose(),b.transpose(),c.transpose()\n",
    "    teststart = arr[:,:-1].transpose()\n",
    "    tmean = np.array([[np.mean(x)] for x in teststart])\n",
    "    teststart = teststart - tmean\n",
    "    stdDev= np.array([[np.std(x)] for x in teststart])\n",
    "    teststart = teststart/stdDev\n",
    "    g = predictGNB(a,b,c,teststart)\n",
    "    print(arr[:,-1] - g)\n",
    "    errorMCS.append(len(np.where(g - arr[:,-1] != 0)[0]))\n",
    "    listarrays = [as1,as2,as3,as4,as5]\n",
    "print('Errors:', errorMCS)\n",
    "print('Mean:', np.mean(errorMCS))\n",
    "print('Variation', math.pow(np.std(errorMCS),2))\n"
   ]
  },
  {
   "cell_type": "code",
   "execution_count": 13,
   "metadata": {},
   "outputs": [
    {
     "name": "stdout",
     "output_type": "stream",
     "text": [
      "[0. 0. 0. 0. 0. 0. 0. 0. 0. 0. 0. 0. 1. 1. 1. 1. 1. 1. 1. 1. 1. 1. 1. 1.\n",
      " 1. 1. 2. 2. 2. 2. 2. 2. 2. 2. 2.]\n",
      "[0. 0. 0. 0. 0. 0. 0. 0. 0. 0. 0. 0. 0. 0. 0. 0. 0. 0. 0. 0. 0. 0. 0. 0.\n",
      " 0. 0. 0. 0. 0. 0. 0. 0. 0. 0. 0.]\n",
      "[0. 0. 0. 0. 0. 0. 0. 0. 0. 0. 0. 0. 1. 1. 1. 1. 1. 1. 1. 1. 1. 1. 1. 1.\n",
      " 1. 1. 2. 2. 2. 2. 2. 2. 2. 2. 2.]\n",
      "[0. 0. 0. 0. 0. 0. 0. 0. 0. 0. 0. 0. 0. 0. 0. 0. 0. 0. 0. 0. 0. 0. 0. 0.\n",
      " 0. 0. 0. 0. 0. 0. 0. 0. 0. 0. 0.]\n",
      "[0. 0. 0. 0. 0. 0. 0. 0. 0. 0. 0. 0. 1. 1. 1. 1. 1. 1. 1. 1. 1. 1. 1. 1.\n",
      " 1. 1. 2. 2. 2. 2. 2. 2. 2. 2. 2. 2.]\n",
      "[ 0.  0.  0.  0.  0.  0. -1.  0.  0.  0.  0.  0.  0.  0. -1.  0.  0.  0.\n",
      "  0.  0.  0. -1.  0.  0.  0.  0.  0.  0.  0.  0.  0.  0.  0.  0.  0.  0.]\n",
      "[0. 0. 0. 0. 0. 0. 0. 0. 0. 0. 0. 0. 1. 1. 1. 1. 1. 1. 1. 1. 1. 1. 1. 1.\n",
      " 1. 1. 2. 2. 2. 2. 2. 2. 2. 2. 2. 2.]\n",
      "[ 0.  0.  0. -1.  0.  0.  0.  0.  0.  0.  0.  0.  0.  0.  0.  0.  0.  0.\n",
      "  0.  0.  0.  0.  0.  0.  0.  0.  0.  0.  0.  0.  0.  0.  0.  0.  0.  0.]\n",
      "[0. 0. 0. 0. 0. 0. 0. 0. 0. 0. 0. 1. 1. 1. 1. 1. 1. 1. 1. 1. 1. 1. 1. 1.\n",
      " 1. 1. 2. 2. 2. 2. 2. 2. 2. 2. 2. 2.]\n",
      "[0. 0. 0. 0. 0. 0. 0. 0. 0. 0. 0. 0. 0. 0. 0. 0. 0. 0. 0. 0. 0. 0. 0. 0.\n",
      " 0. 0. 0. 0. 0. 0. 0. 0. 0. 0. 0. 0.]\n",
      "Errors: [0, 0, 3, 1, 0]\n",
      "Mean: 0.8\n",
      "Variation 1.3600000000000003\n"
     ]
    }
   ],
   "source": [
    "#Case 3\n",
    "\n",
    "GNB = GaussianNB()\n",
    "listarrays = [as1,as2,as3,as4,as5]\n",
    "errorMBI = []\n",
    "for i in [0, 1, 2, 3, 4]:\n",
    "    arr = listarrays[i]\n",
    "    #print(arr[:,-1])\n",
    "    del listarrays[i]\n",
    "    training = np.array([[],[],[],[],[],[],[],[],[],[],[],[],[],[]]).transpose()\n",
    "    for a in listarrays:\n",
    "        training = np.concatenate((training,a),axis=0)\n",
    "    tstart = training[:,:-1].transpose()\n",
    "    tlabel = training[:,-1]\n",
    "    tmean = np.array([[np.mean(x)] for x in tstart])\n",
    "    tstart = tstart - tmean\n",
    "    stdDev= np.array([[np.std(x)] for x in tstart])\n",
    "    tstart = tstart/stdDev\n",
    "    \n",
    "    training = np.concatenate((tstart.transpose(), tlabel[:,None]), axis=1)\n",
    "    GNB.fit(training[:,:-1], training[:,-1])\n",
    "    teststart = arr[:,:-1].transpose()\n",
    "    tmean = np.array([[np.mean(x)] for x in teststart])\n",
    "    teststart = teststart - tmean\n",
    "    stdDev= np.array([[np.std(x)] for x in teststart])\n",
    "    teststart = teststart/stdDev\n",
    "    g = GNB.predict(teststart.transpose())\n",
    "    print(arr[:,-1] - g)\n",
    "    errorMBI.append(len(np.where(g - arr[:,-1] != 0)[0]))\n",
    "    listarrays = [as1,as2,as3,as4,as5]\n",
    "print('Errors:', errorMBI)\n",
    "print('Mean:', np.mean(errorMBI))\n",
    "print('Variation', math.pow(np.std(errorMBI),2))"
   ]
  },
  {
   "cell_type": "markdown",
   "metadata": {},
   "source": [
    "Overall, the accuracy for centered data was worse on average than the accuracy for the classifiers working with the centered and standardized data. We also see that the variation in the accuracy is also less reliable (that is, the variation is higher) for the classifier working with centered data when compared to the classifiers working with standardized data. Then we suppose that in general Case 1 is worse than either of Cases 2 or 3. Finally, we see that the built-in function to sklearn has slightly better mean and variance than the implementation made. We can assume that there are some additional nontrivial optimizations happening behind the scenes. In the samples attempted, we have Case 3 is better than Case 2 marginally. This is especially true since there are ocassions when there is extremely high variance in the implementation but not the built-in function. We reason that it must be because of an unlucky split for the k-fold validation, which we try to keep an average amount of each class in each fold. However, variation within each class causes this error and clearly the built-in function deals with it much better. In the case when there is a bad fold in the implementation, refreshing a new seed for a newly randomized folds will often fix the problem if one is not overly unlucky."
   ]
  }
 ],
 "metadata": {
  "kernelspec": {
   "display_name": "Python 3",
   "language": "python",
   "name": "python3"
  },
  "language_info": {
   "codemirror_mode": {
    "name": "ipython",
    "version": 3
   },
   "file_extension": ".py",
   "mimetype": "text/x-python",
   "name": "python",
   "nbconvert_exporter": "python",
   "pygments_lexer": "ipython3",
   "version": "3.6.5"
  }
 },
 "nbformat": 4,
 "nbformat_minor": 2
}
