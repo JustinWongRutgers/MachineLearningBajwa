{
 "cells": [
  {
   "cell_type": "code",
   "execution_count": 1,
   "metadata": {},
   "outputs": [],
   "source": [
    "from sklearn.datasets import load_wine\n",
    "samples, labels = load_wine(return_X_y=True)"
   ]
  },
  {
   "cell_type": "code",
   "execution_count": 2,
   "metadata": {},
   "outputs": [],
   "source": [
    "import numpy as np\n",
    "from matplotlib import pyplot as plt\n",
    "from mpl_toolkits.mplot3d import Axes3D\n",
    "import math"
   ]
  },
  {
   "cell_type": "code",
   "execution_count": 3,
   "metadata": {},
   "outputs": [
    {
     "name": "stdout",
     "output_type": "stream",
     "text": [
      "(178, 13)\n",
      "Mean:\n",
      "[[1.30006180e+01]\n",
      " [2.33634831e+00]\n",
      " [2.36651685e+00]\n",
      " [1.94949438e+01]\n",
      " [9.97415730e+01]\n",
      " [2.29511236e+00]\n",
      " [2.02926966e+00]\n",
      " [3.61853933e-01]\n",
      " [1.59089888e+00]\n",
      " [5.05808988e+00]\n",
      " [9.57449438e-01]\n",
      " [2.61168539e+00]\n",
      " [7.46893258e+02]]\n"
     ]
    }
   ],
   "source": [
    "print(samples.shape)\n",
    "X = samples.transpose()\n",
    "m = np.array([[np.mean(x)] for x in X])\n",
    "print(\"Mean:\")\n",
    "print(m)"
   ]
  },
  {
   "cell_type": "code",
   "execution_count": 4,
   "metadata": {},
   "outputs": [
    {
     "data": {
      "text/plain": [
       "<matplotlib.collections.PathCollection at 0x198572cb208>"
      ]
     },
     "execution_count": 4,
     "metadata": {},
     "output_type": "execute_result"
    },
    {
     "data": {
      "image/png": "[encoded data removed]",
      "text/plain": [
       "<Figure size 432x288 with 1 Axes>"
      ]
     },
     "metadata": {},
     "output_type": "display_data"
    }
   ],
   "source": [
    "centered = X - m\n",
    "U,sig,Vh = np.linalg.svd(centered, full_matrices=True)\n",
    "centeredF = np.matmul(U[:,:2].transpose(), centered)\n",
    "\n",
    "CF0 = []\n",
    "CF1 = []\n",
    "CF2 = []\n",
    "\n",
    "for i in range(178):\n",
    "    #print(train_l[i])\n",
    "    if labels[i] == 0:\n",
    "        CF0.append(centeredF[:,i])\n",
    "    elif labels[i] == 1:\n",
    "        CF1.append(centeredF[:,i])\n",
    "    elif labels[i] == 2:\n",
    "        CF2.append(centeredF[:,i])\n",
    "        \n",
    "CF0 = np.array(CF0).transpose()\n",
    "CF1 = np.array(CF1).transpose()\n",
    "CF2 = np.array(CF2).transpose()\n",
    "\n",
    "fig = plt.figure()\n",
    "f = fig.add_subplot(111)\n",
    "f.set_title('Classified Training Data in 2-d')\n",
    "f.set_xlabel('PCA component 1')\n",
    "f.set_ylabel('PCA component 2')\n",
    "\n",
    "f.scatter(CF0[0], CF0[1], color='r', marker='s')\n",
    "f.scatter(CF1[0], CF1[1], color='g', marker='^')\n",
    "f.scatter(CF2[0], CF2[1], color='b')"
   ]
  },
  {
   "cell_type": "code",
   "execution_count": 5,
   "metadata": {},
   "outputs": [
    {
     "name": "stdout",
     "output_type": "stream",
     "text": [
      "Standard Deviations:\n",
      "[[8.09542915e-01]\n",
      " [1.11400363e+00]\n",
      " [2.73572294e-01]\n",
      " [3.33016976e+00]\n",
      " [1.42423077e+01]\n",
      " [6.24090564e-01]\n",
      " [9.96048950e-01]\n",
      " [1.24103260e-01]\n",
      " [5.70748849e-01]\n",
      " [2.31176466e+00]\n",
      " [2.27928607e-01]\n",
      " [7.07993265e-01]\n",
      " [3.14021657e+02]]\n",
      "(13, 178)\n",
      "Standard Deviations:\n",
      "[[1.]\n",
      " [1.]\n",
      " [1.]\n",
      " [1.]\n",
      " [1.]\n",
      " [1.]\n",
      " [1.]\n",
      " [1.]\n",
      " [1.]\n",
      " [1.]\n",
      " [1.]\n",
      " [1.]\n",
      " [1.]]\n"
     ]
    }
   ],
   "source": [
    "stdDev= np.array([[np.std(x)] for x in centered])\n",
    "print(\"Standard Deviations:\")\n",
    "print(stdDev)\n",
    "\n",
    "print(centered.shape)\n",
    "normD = centered/stdDev\n",
    "teststd= np.array([[np.std(x)] for x in normD])\n",
    "print(\"Standard Deviations:\")\n",
    "print(teststd)"
   ]
  },
  {
   "cell_type": "code",
   "execution_count": 6,
   "metadata": {},
   "outputs": [
    {
     "data": {
      "text/plain": [
       "<matplotlib.collections.PathCollection at 0x19857360710>"
      ]
     },
     "execution_count": 6,
     "metadata": {},
     "output_type": "execute_result"
    },
    {
     "data": {
      "image/png": "[encoded data removed]",
      "text/plain": [
       "<Figure size 432x288 with 1 Axes>"
      ]
     },
     "metadata": {},
     "output_type": "display_data"
    }
   ],
   "source": [
    "U,sig,Vh = np.linalg.svd(normD, full_matrices=True)\n",
    "normF = np.matmul(U[:,:2].transpose(), normD)\n",
    "\n",
    "NF0 = []\n",
    "NF1 = []\n",
    "NF2 = []\n",
    "\n",
    "for i in range(178):\n",
    "    #print(train_l[i])\n",
    "    if labels[i] == 0:\n",
    "        NF0.append(normF[:,i])\n",
    "    elif labels[i] == 1:\n",
    "        NF1.append(normF[:,i])\n",
    "    elif labels[i] == 2:\n",
    "        NF2.append(normF[:,i])\n",
    "        \n",
    "NF0 = np.array(NF0).transpose()\n",
    "NF1 = np.array(NF1).transpose()\n",
    "NF2 = np.array(NF2).transpose()\n",
    "\n",
    "fig = plt.figure()\n",
    "f = fig.add_subplot(111)\n",
    "f.set_title('Classified Training Data in 2-d')\n",
    "f.set_xlabel('PCA component 1')\n",
    "f.set_ylabel('PCA component 2')\n",
    "\n",
    "f.scatter(NF0[0], NF0[1], color='r', marker='s')\n",
    "f.scatter(NF1[0], NF1[1], color='g', marker='^')\n",
    "f.scatter(NF2[0], NF2[1], color='b')\n",
    "\n",
    "#It seems like the PCA features corresponding to the unit variance and mean centered dataset would be better for classification."
   ]
  },
  {
   "cell_type": "code",
   "execution_count": 7,
   "metadata": {},
   "outputs": [],
   "source": [
    "def Gprob(mean, std, pt):\n",
    "    return 1/(math.pow(2*math.pi, 0.5)*std)*math.exp(-math.pow(pt - mean, 2)/(2*math.pow(std,2)))\n",
    "\n",
    "#assuming 2d features and 3 classes\n",
    "def trainGNB(DandLappended):\n",
    "    #seperate into the 3 classes\n",
    "    class0 = []\n",
    "    class1 = []\n",
    "    class2 = []\n",
    "    for d in DandLappended:\n",
    "        if d[-1]==0:\n",
    "            class0.append(d)\n",
    "        elif d[-1]==1:\n",
    "            class1.append(d)\n",
    "        elif d[-1]==2:\n",
    "            class2.append(d)\n",
    "    \n",
    "    class0,class1,class2=np.array(class0).transpose(), np.array(class1).transpose(), np.array(class2).transpose()\n",
    "    #print(class0)\n",
    "    U0,_,_ = np.linalg.svd(class0, full_matrices=True)\n",
    "    F0 = np.matmul(U0[:,:2].transpose(), class0)\n",
    "    U1,_,_ = np.linalg.svd(class1, full_matrices=True)\n",
    "    F1 = np.matmul(U1[:,:2].transpose(), class1)\n",
    "    U2,_,_ = np.linalg.svd(class2, full_matrices=True)\n",
    "    F2 = np.matmul(U2[:,:2].transpose(), class2)\n",
    "    return F0, F1, F2\n",
    "    #return {'meanx': np.mean(class0[0,:]), 'meany':np.mean(class0[1,:]), 'stdx': np.std(class0[0,:]), 'stdy': np.std(class0[1,:])},\\\n",
    "#{'meanx': np.mean(class1[0,:]), 'meany':np.mean(class1[1,:]), 'stdx': np.std(class1[0,:]), 'stdy': np.std(class1[1,:])},\\\n",
    "#{'meanx': np.mean(class2[0,:]), 'meany':np.mean(class2[1,:]), 'stdx': np.std(class2[0,:]), 'stdy': np.std(class2[1,:])}\n",
    "\n",
    "def predictGNB(feat0, feat1, feat2, pt):\n",
    "    mean0x = np.mean(feat0[0,:])\n",
    "    mean0y = np.mean(feat0[1,:])\n",
    "    std0x = np.std(feat0[0,:])\n",
    "    std0y = np.std(feat0[1,:])\n",
    "    \n",
    "    mean1x = np.mean(feat1[0,:])\n",
    "    mean1y = np.mean(feat1[1,:])\n",
    "    std1x = np.std(feat1[0,:])\n",
    "    std1y = np.std(feat1[1,:])\n",
    "    \n",
    "    mean2x = np.mean(feat2[0,:])\n",
    "    mean2y = np.mean(feat2[1,:])\n",
    "    std2x = np.std(feat2[0,:])\n",
    "    std2y = np.std(feat2[1,:])\n",
    "    \n",
    "    predC = []\n",
    "    \n",
    "    for p in pt:\n",
    "        p0 = Gprob(mean0x, std0x, p[0])*Gprob(mean0y,std0y,p[1])\n",
    "        p1 = Gprob(mean1x, std1x, p[0])*Gprob(mean1y,std1y,p[1])\n",
    "        p2 = Gprob(mean2x, std2x, p[0])*Gprob(mean2y,std2y,p[1])\n",
    "        probs = [p0,p1,p2]\n",
    "        print(probs)\n",
    "        predC.append(probs.index(max(probs)))\n",
    "    return predC"
   ]
  },
  {
   "cell_type": "code",
   "execution_count": 8,
   "metadata": {},
   "outputs": [],
   "source": [
    "from sklearn.naive_bayes import GaussianNB"
   ]
  },
  {
   "cell_type": "code",
   "execution_count": 9,
   "metadata": {},
   "outputs": [
    {
     "name": "stdout",
     "output_type": "stream",
     "text": [
      "(14, 178)\n",
      "(14, 178)\n"
     ]
    }
   ],
   "source": [
    "\n",
    "#aS = np.concatenate((X, labels[None,:]), axis=0)\n",
    "aS = np.concatenate((normD, labels[None,:]), axis=0)\n",
    "print(aS.shape)\n",
    "#aC = np.concatenate((X, labels[None,:]), axis=0)\n",
    "aC = np.concatenate((centered, labels[None,:]), axis=0)\n",
    "print(aC.shape)"
   ]
  },
  {
   "cell_type": "code",
   "execution_count": 10,
   "metadata": {},
   "outputs": [
    {
     "ename": "NameError",
     "evalue": "name 'aD' is not defined",
     "output_type": "error",
     "traceback": [
      "\u001b[1;31m---------------------------------------------------------------------------\u001b[0m",
      "\u001b[1;31mNameError\u001b[0m                                 Traceback (most recent call last)",
      "\u001b[1;32m<ipython-input-10-ba4926fe0f74>\u001b[0m in \u001b[0;36m<module>\u001b[1;34m()\u001b[0m\n\u001b[1;32m----> 1\u001b[1;33m \u001b[0maStd\u001b[0m \u001b[1;33m=\u001b[0m \u001b[0maD\u001b[0m\u001b[1;33m.\u001b[0m\u001b[0mtranspose\u001b[0m\u001b[1;33m(\u001b[0m\u001b[1;33m)\u001b[0m\u001b[1;33m\u001b[0m\u001b[0m\n\u001b[0m\u001b[0;32m      2\u001b[0m \u001b[0maCent\u001b[0m \u001b[1;33m=\u001b[0m  \u001b[0maC\u001b[0m\u001b[1;33m.\u001b[0m\u001b[0mtranspose\u001b[0m\u001b[1;33m(\u001b[0m\u001b[1;33m)\u001b[0m\u001b[1;33m\u001b[0m\u001b[0m\n\u001b[0;32m      3\u001b[0m \u001b[1;33m\u001b[0m\u001b[0m\n\u001b[0;32m      4\u001b[0m \u001b[0mperm\u001b[0m \u001b[1;33m=\u001b[0m \u001b[0mnp\u001b[0m\u001b[1;33m.\u001b[0m\u001b[0mrandom\u001b[0m\u001b[1;33m.\u001b[0m\u001b[0mpermutation\u001b[0m\u001b[1;33m(\u001b[0m\u001b[0maStd\u001b[0m\u001b[1;33m.\u001b[0m\u001b[0mshape\u001b[0m\u001b[1;33m[\u001b[0m\u001b[1;36m0\u001b[0m\u001b[1;33m]\u001b[0m\u001b[1;33m)\u001b[0m\u001b[1;33m\u001b[0m\u001b[0m\n\u001b[0;32m      5\u001b[0m \u001b[1;33m\u001b[0m\u001b[0m\n",
      "\u001b[1;31mNameError\u001b[0m: name 'aD' is not defined"
     ]
    }
   ],
   "source": [
    "aStd = aS.transpose()\n",
    "aCent =  aC.transpose()\n",
    "\n",
    "perm = np.random.permutation(aStd.shape[0])\n",
    "\n",
    "asp1,asp2,asp3,asp4,asp5, _ = np.array(np.split(aStd[perm],[36, 72, 108, 144, 178]))\n",
    "print(asp1.shape, asp2.shape, asp3.shape, asp4.shape, asp5.shape)\n",
    "print(asp1[:,13])\n",
    "\n",
    "acp1,acp2,acp3,acp4,acp5, _ = np.array(np.split(aCent[perm],[36, 72, 108, 144, 178]))\n",
    "print(acp1.shape, acp2.shape, acp3.shape, acp4.shape, acp5.shape)\n",
    "print(acp1[:,13])"
   ]
  },
  {
   "cell_type": "code",
   "execution_count": null,
   "metadata": {},
   "outputs": [],
   "source": [
    "\n",
    "GNB = GaussianNB()\n",
    "#for i in range(5):\n",
    "    \n",
    "\n",
    "\n",
    "GNB.fit(normF.transpose(), labels)\n",
    "GNB.predict(normF.transpose()) - labels"
   ]
  },
  {
   "cell_type": "code",
   "execution_count": null,
   "metadata": {},
   "outputs": [],
   "source": [
    "a,b,c = trainGNB(asp1)\n",
    "_ = predictGNB(a,b,c,np.array([[1,4]]))\n",
    "U,_,_ = np.linalg.svd(asp4.transpose(),full_matrices=True)\n",
    "testfeat = np.matmul(U[:,:2].transpose(), asp4.transpose())\n",
    "g = predictGNB(a,b,c,testfeat.transpose())\n",
    "print(g)\n",
    "print(asp4[:,-1])\n",
    "print(g-asp4[:,-1])"
   ]
  }
 ],
 "metadata": {
  "kernelspec": {
   "display_name": "Python 3",
   "language": "python",
   "name": "python3"
  },
  "language_info": {
   "codemirror_mode": {
    "name": "ipython",
    "version": 3
   },
   "file_extension": ".py",
   "mimetype": "text/x-python",
   "name": "python",
   "nbconvert_exporter": "python",
   "pygments_lexer": "ipython3",
   "version": "3.6.5"
  }
 },
 "nbformat": 4,
 "nbformat_minor": 2
}
