{
 "cells": [
  {
   "cell_type": "code",
   "execution_count": 1,
   "metadata": {},
   "outputs": [],
   "source": [
    "import numpy as np\n",
    "from matplotlib import pyplot as plt\n",
    "from mpl_toolkits.mplot3d import Axes3D\n",
    "import math"
   ]
  },
  {
   "cell_type": "code",
   "execution_count": 2,
   "metadata": {},
   "outputs": [],
   "source": [
    "from scipy.stats import multivariate_normal"
   ]
  },
  {
   "cell_type": "code",
   "execution_count": 3,
   "metadata": {},
   "outputs": [],
   "source": [
    "roottwo = 1/math.pow(2,.5)\n",
    "U = np.array([[roottwo, -roottwo], [roottwo, roottwo]])\n",
    "lam1 = np.array([[4, 0], [0, 1]])\n",
    "lam2 = np.array([[1, 0], [0,5]])\n",
    "rv1 = multivariate_normal(mean = [1, 0], cov = np.matmul(U, np.matmul(lam1,U.transpose())))\n",
    "rv2 = multivariate_normal(mean = [-1, 0], cov = np.matmul(U, np.matmul(lam2,U.transpose())))\n",
    "rv3 = multivariate_normal(mean = [0, -10], cov = np.identity(2))"
   ]
  },
  {
   "cell_type": "code",
   "execution_count": 4,
   "metadata": {},
   "outputs": [
    {
     "name": "stdout",
     "output_type": "stream",
     "text": [
      "(2, 1000)\n"
     ]
    }
   ],
   "source": [
    "RV1 = rv1.rvs(1000).transpose()\n",
    "RV2 = rv2.rvs(1000).transpose()\n",
    "RV3 = rv3.rvs(1000).transpose()\n",
    "\n",
    "\n",
    "print(RV1.shape)"
   ]
  },
  {
   "cell_type": "code",
   "execution_count": 5,
   "metadata": {},
   "outputs": [
    {
     "data": {
      "text/plain": [
       "<matplotlib.collections.PathCollection at 0x1d93f6640b8>"
      ]
     },
     "execution_count": 5,
     "metadata": {},
     "output_type": "execute_result"
    },
    {
     "data": {
      "image/png": "[encoded data removed]",
      "text/plain": [
       "<Figure size 432x288 with 1 Axes>"
      ]
     },
     "metadata": {},
     "output_type": "display_data"
    }
   ],
   "source": [
    "fig = plt.figure()\n",
    "f = fig.add_subplot(111)\n",
    "f.set_title('Real Clusters')\n",
    "f.set_xlabel('x_{1}')\n",
    "f.set_ylabel('x_{2}')\n",
    "\n",
    "f.scatter(RV1[0,:], RV1[1,:], color='r', marker='s')\n",
    "f.scatter(RV2[0,:], RV2[1,:], color='g', marker='s')\n",
    "f.scatter(RV3[0,:], RV3[1,:], color='b', marker='s')"
   ]
  },
  {
   "cell_type": "code",
   "execution_count": 6,
   "metadata": {},
   "outputs": [
    {
     "name": "stdout",
     "output_type": "stream",
     "text": [
      "(2, 3000)\n",
      "done\n"
     ]
    }
   ],
   "source": [
    "#Assuming that we are using the Euclidean distance as the metric\n",
    "\n",
    "\n",
    "data = np.concatenate((RV1, RV2, RV3), axis = 1)\n",
    "print(data.shape)\n",
    "init = np.random.randint(3, size = (3000,))\n",
    "#print(init)\n",
    "flag = 1\n",
    "while flag==1:\n",
    "    flag = 0\n",
    "    #print((init==0).tolist())\n",
    "    #print(data[:,(init==0).tolist()])\n",
    "    mean0 = np.mean(data[:,(init==0).tolist()], axis=1)\n",
    "    mean1 = np.mean(data[:,(init==1).tolist()], axis=1)\n",
    "    mean2 = np.mean(data[:,(init==2).tolist()], axis=1)\n",
    "    #print(mean0)\n",
    "    #print(mean1)\n",
    "    #print(mean2)\n",
    "    counter = 0\n",
    "    for pt in data.transpose():\n",
    "        #print(pt)\n",
    "        #print([np.linalg.norm(pt- mean0,2), np.linalg.norm(pt- mean1,2), np.linalg.norm(pt- mean2,2)])\n",
    "        #print(np.argmin(np.array([np.linalg.norm(pt, mean0,2), np.linalg.norm(pt, mean1,2), np.linalg.norm(pt, mean2,2)])))\n",
    "        cluster = np.argmin(np.array([np.linalg.norm(pt- mean0,2), np.linalg.norm(pt-mean1,2), np.linalg.norm(pt-mean2,2)]))\n",
    "        if init[counter] != cluster:\n",
    "            flag = 1\n",
    "        init[counter] = cluster\n",
    "        counter = counter + 1\n",
    "print('done')"
   ]
  },
  {
   "cell_type": "code",
   "execution_count": 7,
   "metadata": {},
   "outputs": [
    {
     "data": {
      "text/plain": [
       "<matplotlib.collections.PathCollection at 0x1d93f6f6908>"
      ]
     },
     "execution_count": 7,
     "metadata": {},
     "output_type": "execute_result"
    },
    {
     "data": {
      "image/png": "[encoded data removed]",
      "text/plain": [
       "<Figure size 432x288 with 1 Axes>"
      ]
     },
     "metadata": {},
     "output_type": "display_data"
    }
   ],
   "source": [
    "fig = plt.figure()\n",
    "f = fig.add_subplot(111)\n",
    "f.set_title('Kmeans clusters')\n",
    "f.set_xlabel('x_{1}')\n",
    "f.set_ylabel('x_{2}')\n",
    "\n",
    "f.scatter(data[:,(init==0).tolist()][0], data[:,(init==0).tolist()][1], color='r', marker='s')\n",
    "f.scatter(data[:,(init==1).tolist()][0], data[:,(init==1).tolist()][1], color='g', marker='s')\n",
    "f.scatter(data[:,(init==2).tolist()][0], data[:,(init==2).tolist()][1], color='b', marker='s')"
   ]
  },
  {
   "cell_type": "code",
   "execution_count": null,
   "metadata": {},
   "outputs": [],
   "source": []
  },
  {
   "cell_type": "code",
   "execution_count": null,
   "metadata": {},
   "outputs": [],
   "source": []
  },
  {
   "cell_type": "code",
   "execution_count": null,
   "metadata": {},
   "outputs": [],
   "source": []
  },
  {
   "cell_type": "code",
   "execution_count": null,
   "metadata": {},
   "outputs": [],
   "source": []
  },
  {
   "cell_type": "code",
   "execution_count": null,
   "metadata": {},
   "outputs": [],
   "source": []
  }
 ],
 "metadata": {
  "kernelspec": {
   "display_name": "Python 3",
   "language": "python",
   "name": "python3"
  },
  "language_info": {
   "codemirror_mode": {
    "name": "ipython",
    "version": 3
   },
   "file_extension": ".py",
   "mimetype": "text/x-python",
   "name": "python",
   "nbconvert_exporter": "python",
   "pygments_lexer": "ipython3",
   "version": "3.6.5"
  }
 },
 "nbformat": 4,
 "nbformat_minor": 2
}
