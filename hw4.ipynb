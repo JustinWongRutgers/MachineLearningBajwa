{
 "cells": [
  {
   "cell_type": "code",
   "execution_count": 1,
   "metadata": {},
   "outputs": [],
   "source": [
    "import numpy as np\n",
    "import matplotlib.pyplot as plt"
   ]
  },
  {
   "cell_type": "code",
   "execution_count": 2,
   "metadata": {},
   "outputs": [],
   "source": [
    "from sklearn.datasets import load_digits\n",
    "images, labels = load_digits(2, return_X_y=True)"
   ]
  },
  {
   "cell_type": "code",
   "execution_count": 3,
   "metadata": {},
   "outputs": [],
   "source": [
    "# Labeled training set\n",
    "training_images = images[:300]\n",
    "training_labels = labels[:300]\n",
    "# Labeled test set\n",
    "test_images = images[300:]\n",
    "test_labels = labels[300:]\n",
    "\n",
    "train_i = training_images.transpose()\n",
    "train_l = training_labels.transpose()\n",
    "\n",
    "test_i = test_images.transpose()\n",
    "test_l = test_labels.transpose()"
   ]
  },
  {
   "cell_type": "code",
   "execution_count": 4,
   "metadata": {},
   "outputs": [
    {
     "name": "stdout",
     "output_type": "stream",
     "text": [
      "(64, 300)\n",
      "(64, 1)\n"
     ]
    }
   ],
   "source": [
    "training_mean = np.array([[np.mean(x)] for x in train_i])\n",
    "print(train_i.shape)\n",
    "print(training_mean.shape)"
   ]
  },
  {
   "cell_type": "code",
   "execution_count": 5,
   "metadata": {},
   "outputs": [],
   "source": [
    "U,S_t,Vh = np.linalg.svd(train_i - training_mean, full_matrices=True)\n",
    "P2 = U.transpose()[:2].transpose()\n",
    "Xfeat = np.matmul(P2.transpose(), train_i - training_mean)\n",
    "Xhat = np.matmul(P2, np.matmul(P2.transpose(), train_i - training_mean)) + training_mean"
   ]
  },
  {
   "cell_type": "code",
   "execution_count": 6,
   "metadata": {},
   "outputs": [
    {
     "name": "stdout",
     "output_type": "stream",
     "text": [
      "(2, 300)\n"
     ]
    },
    {
     "data": {
      "text/plain": [
       "<matplotlib.collections.PathCollection at 0x1f13907fdd8>"
      ]
     },
     "execution_count": 6,
     "metadata": {},
     "output_type": "execute_result"
    },
    {
     "data": {
      "image/png": "[encoded data removed]",
      "text/plain": [
       "<Figure size 432x288 with 1 Axes>"
      ]
     },
     "metadata": {},
     "output_type": "display_data"
    }
   ],
   "source": [
    "print(Xfeat.shape)\n",
    "Xfeat0 = []\n",
    "Xfeat1 = []\n",
    "for i in range(300):\n",
    "    #print(train_l[i])\n",
    "    if train_l[i] == 0:\n",
    "        Xfeat0.append(Xfeat.transpose()[i])\n",
    "    elif train_l[i] == 1:\n",
    "        Xfeat1.append(Xfeat.transpose()[i])\n",
    "X0 = np.array(Xfeat0).transpose()\n",
    "X1 = np.array(Xfeat1).transpose()\n",
    "plt.scatter(X0[0], X0[1], color='r')\n",
    "plt.scatter(X1[0], X1[1], color='g')"
   ]
  },
  {
   "cell_type": "code",
   "execution_count": 33,
   "metadata": {},
   "outputs": [],
   "source": [
    "def get_closest_indices(neighbors, pt, training):\n",
    "    distances = []\n",
    "    for train in training:\n",
    "        distances.append(np.linalg.norm(pt - train))\n",
    "    return np.array(distances).argsort()[:neighbors]\n",
    "\n",
    "def kNN(neighbors, data, training_data, training_labels):\n",
    "    kNN_labels = []\n",
    "    i = 0\n",
    "    for d in data:\n",
    "        closest = get_closest_indices(neighbors, d, training_data)\n",
    "        #print(train_l[closest], test_l[i])\n",
    "        if sum(training_labels[closest])>neighbors/2:\n",
    "            #print(train_l[closest], test_l[i], 1)\n",
    "            kNN_labels.append(1)\n",
    "        else:\n",
    "            #print(train_l[closest], test_l[i], 0)\n",
    "            kNN_labels.append(0)\n",
    "        i+=1\n",
    "    \n",
    "    return np.array(kNN_labels)\n",
    "    \n",
    "    "
   ]
  },
  {
   "cell_type": "code",
   "execution_count": 35,
   "metadata": {},
   "outputs": [],
   "source": [
    "Xtestfeat = np.matmul(P2.transpose(), test_i - training_mean)\n",
    "k5NN_labels = kNN(5, Xtestfeat.transpose(), Xfeat.transpose(), train_l)\n",
    "\n",
    "\n"
   ]
  },
  {
   "cell_type": "code",
   "execution_count": 9,
   "metadata": {},
   "outputs": [],
   "source": [
    "#def errorplot(NNlabels, real_labels):\n",
    "#    comparison = NNlabels - real_labels\n",
    "#    error_indices = np.where(comparison != 0)[0]\n",
    "#    correct_indices = np.where(comparison == 0)[0]\n",
    "#    \n",
    "#    return len(error_indices)"
   ]
  },
  {
   "cell_type": "code",
   "execution_count": 36,
   "metadata": {},
   "outputs": [
    {
     "name": "stdout",
     "output_type": "stream",
     "text": [
      "0.0\n"
     ]
    },
    {
     "data": {
      "image/png": "[encoded data removed]",
      "text/plain": [
       "<Figure size 432x288 with 1 Axes>"
      ]
     },
     "metadata": {},
     "output_type": "display_data"
    }
   ],
   "source": [
    "#numerrors = errorplot(k5NN_labels, test_l)\n",
    "\n",
    "comparison = k5NN_labels - test_l\n",
    "error_indices = np.where(comparison != 0)[0]\n",
    "correct_indices = np.where(comparison == 0)[0]\n",
    "plt.scatter(Xtestfeat.transpose()[correct_indices].transpose()[0], Xtestfeat.transpose()[correct_indices].transpose()[1], color='b')\n",
    "plt.scatter(Xtestfeat.transpose()[error_indices].transpose()[0], Xtestfeat.transpose()[error_indices].transpose()[1], color='k')\n",
    "\n",
    "plt.scatter(X0[0], X0[1], color='r')\n",
    "plt.scatter(X1[0], X1[1], color='g')\n",
    "error = 1/60 * len(error_indices)\n",
    "print(error)"
   ]
  },
  {
   "cell_type": "code",
   "execution_count": 20,
   "metadata": {},
   "outputs": [
    {
     "name": "stdout",
     "output_type": "stream",
     "text": [
      "19\n"
     ]
    }
   ],
   "source": [
    "total_energy = np.linalg.norm(train_i - training_mean, 'fro')**2\n",
    "cum_energy = 0\n",
    "i = 0\n",
    "while cum_energy < .95*total_energy:\n",
    "    cum_energy+=S_t[i]*S_t[i]\n",
    "    i+=1\n",
    "print(i)"
   ]
  },
  {
   "cell_type": "code",
   "execution_count": 39,
   "metadata": {},
   "outputs": [
    {
     "name": "stdout",
     "output_type": "stream",
     "text": [
      "(9, 60)\n"
     ]
    }
   ],
   "source": [
    "#i  = 2\n",
    "Pi = U.transpose()[:i].transpose()\n",
    "Xifeat = np.matmul(Pi.transpose(), train_i - training_mean)\n",
    "Xtestfeati = np.matmul(Pi.transpose(), test_i-training_mean)"
   ]
  },
  {
   "cell_type": "code",
   "execution_count": 38,
   "metadata": {},
   "outputs": [
    {
     "name": "stdout",
     "output_type": "stream",
     "text": [
      "Errors:  [0 0 0 0 0 0 0 0 0 0 0 0 0 0 0 0 0 0 0 0 0 0 0 0 0 0 0 0 0 0 0 0 0 0 0 0 0\n",
      " 0 0 0 0 0 0 0 0 0 0 0 0 0 0 0 0 0 0 0 0 0 0 0]\n",
      "Average error:  0.0\n",
      "Errors:  [0 0 0 0 0 0 0 0 0 0 0 0 0 0 0 0 0 0 0 0 0 0 0 0 0 0 0 0 0 0 0 0 0 0 0 0 0\n",
      " 0 0 0 0 0 0 0 0 0 0 0 0 0 0 0 0 0 0 0 0 0 0 0]\n",
      "Average error:  0.0\n",
      "Errors:  [0 0 0 0 0 0 0 0 0 0 0 0 0 0 0 0 0 0 0 0 0 0 0 0 0 0 0 0 0 0 0 0 0 0 0 0 0\n",
      " 0 0 0 0 0 0 0 0 0 0 0 0 0 0 0 0 0 0 0 0 0 0 0]\n",
      "Average error:  0.0\n",
      "Errors:  [0 0 0 0 0 0 0 0 0 0 0 0 0 0 0 0 0 0 0 0 0 0 0 0 0 0 0 0 0 0 0 0 0 0 0 0 0\n",
      " 0 0 0 0 0 0 0 0 0 0 0 0 0 0 0 0 0 0 0 0 0 0 0]\n",
      "Average error:  0.0\n",
      "Errors:  [0 0 0 0 0 0 0 0 0 0 0 0 0 0 0 0 0 0 0 0 0 0 0 0 0 0 0 0 0 0 0 0 0 0 0 0 0\n",
      " 0 0 0 0 0 0 0 0 0 0 0 0 0 0 0 0 0 0 0 0 0 0 0]\n",
      "Average error:  0.0\n"
     ]
    }
   ],
   "source": [
    "errorlist = []\n",
    "klist = [1, 3, 5, 7, 9]\n",
    "for i in klist:\n",
    "    kNN_labels = kNN(i, Xtestfeati.transpose(), Xifeat.transpose(), train_l)\n",
    "    #numerrors = errorplot(kNN_labels, test_l)\n",
    "    print('Errors: ', kNN_labels - test_l)\n",
    "    error_indices = np.where(kNN_labels - test_l != 0)[0]\n",
    "    error = 1/60 * len(error_indices)\n",
    "    print('Average error: ', error)\n",
    "    errorlist.append(error)"
   ]
  },
  {
   "cell_type": "code",
   "execution_count": 14,
   "metadata": {},
   "outputs": [
    {
     "data": {
      "text/plain": [
       "<matplotlib.collections.PathCollection at 0x1f138ed95c0>"
      ]
     },
     "execution_count": 14,
     "metadata": {},
     "output_type": "execute_result"
    },
    {
     "data": {
      "image/png": "[encoded data removed]",
      "text/plain": [
       "<Figure size 432x288 with 1 Axes>"
      ]
     },
     "metadata": {},
     "output_type": "display_data"
    }
   ],
   "source": [
    "plt.scatter(klist, errorlist)\n",
    "\n",
    "#since the error does not seem to decrease with increased k, I would recommend using k = 1 to reduce the computational complexity although a larger k value should be considered in an effort to reduce the risk of overfitting the data."
   ]
  }
 ],
 "metadata": {
  "kernelspec": {
   "display_name": "Python 3",
   "language": "python",
   "name": "python3"
  },
  "language_info": {
   "codemirror_mode": {
    "name": "ipython",
    "version": 3
   },
   "file_extension": ".py",
   "mimetype": "text/x-python",
   "name": "python",
   "nbconvert_exporter": "python",
   "pygments_lexer": "ipython3",
   "version": "3.6.5"
  }
 },
 "nbformat": 4,
 "nbformat_minor": 2
}
